{
 "cells": [
  {
   "cell_type": "code",
   "execution_count": 1,
   "metadata": {},
   "outputs": [],
   "source": [
    "import numpy as np\n",
    "import math"
   ]
  },
  {
   "cell_type": "code",
   "execution_count": 2,
   "metadata": {},
   "outputs": [
    {
     "data": {
      "text/plain": [
       "4.700439718141092"
      ]
     },
     "execution_count": 2,
     "metadata": {},
     "output_type": "execute_result"
    }
   ],
   "source": [
    "sumatoria1=0\n",
    "for i in range(26):\n",
    "    sumatoria1=sumatoria1-math.log((1/26),2)*(1/26)\n",
    "sumatoria1"
   ]
  },
  {
   "cell_type": "code",
   "execution_count": 3,
   "metadata": {},
   "outputs": [
    {
     "data": {
      "text/plain": [
       "4.172510729099619"
      ]
     },
     "execution_count": 3,
     "metadata": {},
     "output_type": "execute_result"
    }
   ],
   "source": [
    "sumatoriapond=0\n",
    "for i in range(4):\n",
    "    sumatoriapond=sumatoriapond-math.log(0.1,2)*(0.1)\n",
    "for i in range(5):\n",
    "    sumatoriapond=sumatoriapond-math.log(0.07,2)*(0.07)\n",
    "for i in range(8):\n",
    "    sumatoriapond=sumatoriapond-math.log(0.02,2)*(0.02)\n",
    "for i in range(9):\n",
    "    sumatoriapond=sumatoriapond-math.log(0.01,2)*(0.01)\n",
    "sumatoriapond"
   ]
  },
  {
   "cell_type": "code",
   "execution_count": 4,
   "metadata": {},
   "outputs": [],
   "source": [
    "def calculoTot(c1,c2,c3,c4):\n",
    "    sumatoriapond=0\n",
    "    for i in range(c1):\n",
    "        sumatoriapond=sumatoriapond-math.log(0.1,2)*(0.1)\n",
    "    for i in range(c2):\n",
    "        sumatoriapond=sumatoriapond-math.log(0.07,2)*(0.07)\n",
    "    for i in range(c3):\n",
    "        sumatoriapond=sumatoriapond-math.log(0.02,2)*(0.02)\n",
    "    for i in range(c4):\n",
    "        sumatoriapond=sumatoriapond-math.log(0.01,2)*(0.01)\n",
    "    return sumatoriapond\n",
    "\n",
    "\n",
    "def cantPalabra(palabra):\n",
    "    c1=0\n",
    "    c2=0\n",
    "    c3=0\n",
    "    c4=0\n",
    "    letras=list(palabra)\n",
    "    for letra in letras:\n",
    "        if letra in ['a','e','o','t']:\n",
    "            c1=c1+1\n",
    "        if letra in ['h','i','n','r','s']:\n",
    "            c2=c2+1\n",
    "        if letra in ['c','d','f','l','m','p','u','y']:\n",
    "            c3=c3+1\n",
    "        if letra in ['b','g','j','k','q','v','w','x','z']:\n",
    "            c4=c4+1\n",
    "    print(palabra + ' (' + str(len(letras)) +'): ' + str(calculoTot(c1,c2,c3,c4)))\n",
    "    "
   ]
  },
  {
   "cell_type": "code",
   "execution_count": 5,
   "metadata": {},
   "outputs": [
    {
     "name": "stdout",
     "output_type": "stream",
     "text": [
      "abcdefghijklmnopqrstuvwxyz (26): 4.172510729099619\n",
      "student (7): 1.7594428535375943\n",
      "university (10): 2.2993538721672007\n",
      "engineering (11): 2.7407860847028935\n",
      "electronics (11): 2.741622964302222\n",
      "telecommunications (18): 4.345387852895114\n"
     ]
    }
   ],
   "source": [
    "cantPalabra('abcdefghijklmnopqrstuvwxyz')\n",
    "cantPalabra('student')\n",
    "cantPalabra('university')\n",
    "cantPalabra('engineering')\n",
    "cantPalabra('electronics')\n",
    "cantPalabra('telecommunications')"
   ]
  },
  {
   "cell_type": "code",
   "execution_count": null,
   "metadata": {},
   "outputs": [],
   "source": []
  },
  {
   "cell_type": "code",
   "execution_count": null,
   "metadata": {},
   "outputs": [],
   "source": []
  }
 ],
 "metadata": {
  "kernelspec": {
   "display_name": "Python 3",
   "language": "python",
   "name": "python3"
  },
  "language_info": {
   "codemirror_mode": {
    "name": "ipython",
    "version": 3
   },
   "file_extension": ".py",
   "mimetype": "text/x-python",
   "name": "python",
   "nbconvert_exporter": "python",
   "pygments_lexer": "ipython3",
   "version": "3.6.4"
  }
 },
 "nbformat": 4,
 "nbformat_minor": 2
}
